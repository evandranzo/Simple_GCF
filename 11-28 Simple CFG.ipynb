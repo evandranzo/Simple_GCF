{
 "cells": [
  {
   "cell_type": "markdown",
   "id": "9aa849cf",
   "metadata": {},
   "source": [
    "This notebook shows how to work with a simple English grammar."
   ]
  },
  {
   "cell_type": "code",
   "execution_count": 11,
   "id": "c21b7cf7",
   "metadata": {},
   "outputs": [
    {
     "name": "stderr",
     "output_type": "stream",
     "text": [
      "[nltk_data] Downloading package punkt to\n",
      "[nltk_data]     C:\\Users\\Evand\\AppData\\Roaming\\nltk_data...\n",
      "[nltk_data]   Package punkt is already up-to-date!\n"
     ]
    },
    {
     "data": {
      "text/plain": [
       "True"
      ]
     },
     "execution_count": 11,
     "metadata": {},
     "output_type": "execute_result"
    }
   ],
   "source": [
    "import nltk\n",
    "nltk.download('punkt')"
   ]
  },
  {
   "cell_type": "markdown",
   "id": "e81df6ec",
   "metadata": {},
   "source": []
  },
  {
   "cell_type": "code",
   "execution_count": 12,
   "id": "3e4461b6",
   "metadata": {},
   "outputs": [
    {
     "name": "stdout",
     "output_type": "stream",
     "text": [
      "['In', 'x', ';', 'y', 'is', 'x', '+', '1', ';', 'y', 'is', 'y', '+', '9', ';', 'Out', '6', ';', 'Out', 'x', ';', 'DONE']\n",
      "\n",
      "Grammar with 28 productions (start state = ALL)\n",
      "    ALL -> 'DONE'\n",
      "    ALL -> S ALL\n",
      "    S -> Input\n",
      "    S -> Output\n",
      "    S -> Assess\n",
      "    Input -> 'In' Var SemiColn\n",
      "    Output -> 'Out' Operand SemiColn\n",
      "    Assess -> Var Is Exp SemiColn\n",
      "    Exp -> Operand Operator Operand\n",
      "    Operator -> '+'\n",
      "    Operator -> '-'\n",
      "    Operand -> Var\n",
      "    Operand -> Num\n",
      "    Var -> 'x'\n",
      "    Var -> 'y'\n",
      "    Var -> 'z'\n",
      "    Num -> '0'\n",
      "    Num -> '1'\n",
      "    Num -> '2'\n",
      "    Num -> '3'\n",
      "    Num -> '4'\n",
      "    Num -> '5'\n",
      "    Num -> '6'\n",
      "    Num -> '7'\n",
      "    Num -> '8'\n",
      "    Num -> '9'\n",
      "    SemiColn -> ';'\n",
      "    Is -> 'is'\n",
      "\n",
      "(ALL\n",
      "  (S (Input In (Var x) (SemiColn ;)))\n",
      "  (ALL\n",
      "    (S\n",
      "      (Assess\n",
      "        (Var y)\n",
      "        (Is is)\n",
      "        (Exp (Operand (Var x)) (Operator +) (Operand (Num 1)))\n",
      "        (SemiColn ;)))\n",
      "    (ALL\n",
      "      (S\n",
      "        (Assess\n",
      "          (Var y)\n",
      "          (Is is)\n",
      "          (Exp (Operand (Var y)) (Operator +) (Operand (Num 9)))\n",
      "          (SemiColn ;)))\n",
      "      (ALL\n",
      "        (S (Output Out (Operand (Num 6)) (SemiColn ;)))\n",
      "        (ALL\n",
      "          (S (Output Out (Operand (Var x)) (SemiColn ;)))\n",
      "          (ALL DONE))))))\n",
      "\n",
      "                                                                 ALL                                                                                     \n",
      "       ___________________________________________________________|_____________                                                                          \n",
      "      |                                                                        ALL                                                                       \n",
      "      |                        _________________________________________________|_______________________                                                  \n",
      "      |                       |                                                                        ALL                                               \n",
      "      |                       |                                          _______________________________|____________________                             \n",
      "      |                       |                                         |                                                   ALL                          \n",
      "      |                       |                                         |                                      ______________|___________                 \n",
      "      |                       S                                         S                                     |                         ALL              \n",
      "      |                       |                                         |                                     |                     _____|____________    \n",
      "      |                     Assess                                    Assess                                  S                    S                  |  \n",
      "      |              _________|________________________        _________|________________________             |                    |                  |   \n",
      "      S             |   |            Exp               |      |   |            Exp               |          Output               Output               |  \n",
      "      |             |   |      _______|________        |      |   |      _______|________        |       _____|_______        _____|___________       |   \n",
      "    Input           |   |  Operand    |     Operand    |      |   |  Operand    |     Operand    |      |  Operand    |      |  Operand        |      |  \n",
      "  ____|______       |   |     |       |        |       |      |   |     |       |        |       |      |     |       |      |     |           |      |   \n",
      " |   Var  SemiColn Var  Is   Var   Operator   Num   SemiColn Var  Is   Var   Operator   Num   SemiColn  |    Num   SemiColn  |    Var       SemiColn ALL \n",
      " |    |      |      |   |     |       |        |       |      |   |     |       |        |       |      |     |       |      |     |           |      |   \n",
      " In   x      ;      y   is    x       +        1       ;      y   is    y       +        9       ;     Out    6       ;     Out    x           ;     DONE\n",
      "\n",
      "\n",
      "[Tree('ALL', [Tree('S', [Tree('Input', ['In', Tree('Var', ['x']), Tree('SemiColn', [';'])])]), Tree('ALL', [Tree('S', [Tree('Assess', [Tree('Var', ['y']), Tree('Is', ['is']), Tree('Exp', [Tree('Operand', [Tree('Var', ['x'])]), Tree('Operator', ['+']), Tree('Operand', [Tree('Num', ['1'])])]), Tree('SemiColn', [';'])])]), Tree('ALL', [Tree('S', [Tree('Assess', [Tree('Var', ['y']), Tree('Is', ['is']), Tree('Exp', [Tree('Operand', [Tree('Var', ['y'])]), Tree('Operator', ['+']), Tree('Operand', [Tree('Num', ['9'])])]), Tree('SemiColn', [';'])])]), Tree('ALL', [Tree('S', [Tree('Output', ['Out', Tree('Operand', [Tree('Num', ['6'])]), Tree('SemiColn', [';'])])]), Tree('ALL', [Tree('S', [Tree('Output', ['Out', Tree('Operand', [Tree('Var', ['x'])]), Tree('SemiColn', [';'])])]), Tree('ALL', ['DONE'])])])])])])]\n"
     ]
    }
   ],
   "source": [
    "sentence = \"In x ; y is x + 1 ; y is y + 9 ; Out 6 ; Out x; DONE\"\n",
    "\n",
    "tokens = nltk.tokenize.word_tokenize(sentence)\n",
    "print(tokens)\n",
    "\n",
    "# -> is definied to be\n",
    "grammar = nltk.CFG.fromstring(\"\"\"\n",
    "    ALL -> \"DONE\" | S ALL\n",
    "    S -> Input | Output | Assess\n",
    "    Input -> \"In\" Var SemiColn\n",
    "    Output -> \"Out\" Operand SemiColn\n",
    "    Assess -> Var Is Exp SemiColn\n",
    "    Exp -> Operand Operator Operand\n",
    "    Operator -> \"+\" | \"-\"      \n",
    "    Operand -> Var | Num\n",
    "    Var -> \"x\" | \"y\" | \"z\"\n",
    "    Num -> \"0\" | \"1\" | \"2\" | \"3\" | \"4\" | \"5\" | \"6\" | \"7\" | \"8\" | \"9\"\n",
    "    SemiColn -> \";\"\n",
    "    Is -> \"is\"\n",
    "\"\"\")\n",
    "\n",
    "print()\n",
    "print(grammar)\n",
    "\n",
    "parser = nltk.RecursiveDescentParser(grammar)\n",
    "\n",
    "trees = []\n",
    "try:\n",
    "    for tree in parser.parse(tokens):\n",
    "        trees.append(tree)\n",
    "        print(\"\")\n",
    "        print(tree)\n",
    "        print()\n",
    "        tree.pretty_print()\n",
    "except ValueError:\n",
    "    print(\"HERE\")\n",
    "    print(\"No parse tree possible.\")\n",
    "\n",
    "print()\n",
    "print(trees)"
   ]
  }
 ],
 "metadata": {
  "kernelspec": {
   "display_name": "Python 3 (ipykernel)",
   "language": "python",
   "name": "python3"
  },
  "language_info": {
   "codemirror_mode": {
    "name": "ipython",
    "version": 3
   },
   "file_extension": ".py",
   "mimetype": "text/x-python",
   "name": "python",
   "nbconvert_exporter": "python",
   "pygments_lexer": "ipython3",
   "version": "3.11.3"
  }
 },
 "nbformat": 4,
 "nbformat_minor": 5
}
